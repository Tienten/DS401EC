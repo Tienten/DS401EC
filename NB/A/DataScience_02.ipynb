{
 "cells": [
  {
   "attachments": {},
   "cell_type": "markdown",
   "id": "ceb2874e",
   "metadata": {},
   "source": [
    "# Data Science\n",
    "#### By: Javier Orduz\n",
    "[license-badge]: https://img.shields.io/badge/License-CC-orange\n",
    "[license]: https://creativecommons.org/licenses/by-nc-sa/3.0/deed.en\n",
    "\n",
    "[![CC License][license-badge]][license]\n",
    "\n",
    "[![DS](https://img.shields.io/badge/downloads-DS-green)](https://github.com/Earlham-College/DS_Fall_2022)\n",
    "\n",
    "[![Github](https://img.shields.io/badge/jaorduz-repos-blue)](https://github.com/jaorduz/)\n",
    "\n",
    "![Follow @jaorduc](https://img.shields.io/twitter/follow/jaorduc?label=follow&logo=twitter&logoColor=lkj&style=plastic)\n",
    "\n",
    "\n",
    "\n",
    "## Contents\n",
    "1. [List and Tuples](#list_tuples)\n",
    "1. [Exercises](#exercises)\n",
    "1. [References](#references)"
   ]
  },
  {
   "attachments": {},
   "cell_type": "markdown",
   "id": "5fd9b8b0",
   "metadata": {},
   "source": [
    "We call the package"
   ]
  },
  {
   "cell_type": "code",
   "execution_count": 1,
   "id": "90b7c328",
   "metadata": {},
   "outputs": [],
   "source": [
    "import numpy as np"
   ]
  },
  {
   "attachments": {},
   "cell_type": "markdown",
   "id": "f7f30c63",
   "metadata": {},
   "source": [
    "We create an set of random mumbers."
   ]
  },
  {
   "cell_type": "code",
   "execution_count": 2,
   "id": "b93db34a",
   "metadata": {},
   "outputs": [],
   "source": [
    "data = {i : np.random.randn(2,4) for i in range(3)}"
   ]
  },
  {
   "attachments": {},
   "cell_type": "markdown",
   "id": "9b642b71",
   "metadata": {},
   "source": [
    "We print the data with the label from $i= 0$ to $i= 6$"
   ]
  },
  {
   "cell_type": "code",
   "execution_count": 25,
   "id": "034c683a",
   "metadata": {},
   "outputs": [
    {
     "name": "stdout",
     "output_type": "stream",
     "text": [
      "{0: array([[ 0.69141927, -2.22524742,  0.02661367, -0.40320715],\n",
      "       [ 1.72748332, -0.18216456,  0.74141057,  2.69547227]]), 1: array([[ 1.19778825,  0.70468184,  2.22550385, -0.34211532],\n",
      "       [-1.01558698, -1.17722943, -0.27676636,  0.13905258]]), 2: array([[ 0.16608071, -0.78222923,  0.50949039,  0.30367735],\n",
      "       [ 1.34749569, -0.07106812, -0.73436172, -0.48347782]])}\n"
     ]
    }
   ],
   "source": [
    "print(data)"
   ]
  },
  {
   "attachments": {},
   "cell_type": "markdown",
   "id": "4be02f54",
   "metadata": {},
   "source": [
    "We return the value for key [0] of the dictionary 'data'. The value has the form of 2-D array."
   ]
  },
  {
   "cell_type": "code",
   "execution_count": 3,
   "id": "cda5913d",
   "metadata": {},
   "outputs": [
    {
     "data": {
      "text/plain": [
       "array([[ 0.07985256, -0.97543247,  0.05184737, -0.52563972],\n",
       "       [-0.49441105, -0.90511355, -0.34833882,  1.02445702]])"
      ]
     },
     "execution_count": 3,
     "metadata": {},
     "output_type": "execute_result"
    }
   ],
   "source": [
    "data[0]"
   ]
  },
  {
   "attachments": {},
   "cell_type": "markdown",
   "id": "99a7de1f",
   "metadata": {},
   "source": [
    "We return the value for element 00"
   ]
  },
  {
   "cell_type": "code",
   "execution_count": 4,
   "id": "bdfdb4b6",
   "metadata": {},
   "outputs": [
    {
     "data": {
      "text/plain": [
       "array([ 0.07985256, -0.97543247,  0.05184737, -0.52563972])"
      ]
     },
     "execution_count": 4,
     "metadata": {},
     "output_type": "execute_result"
    }
   ],
   "source": [
    "data[0][0]"
   ]
  },
  {
   "attachments": {},
   "cell_type": "markdown",
   "id": "712743c6",
   "metadata": {},
   "source": [
    "This is how we extract the 000 element"
   ]
  },
  {
   "cell_type": "code",
   "execution_count": 5,
   "id": "5ac4f0c7",
   "metadata": {},
   "outputs": [
    {
     "data": {
      "text/plain": [
       "0.07985256492069943"
      ]
     },
     "execution_count": 5,
     "metadata": {},
     "output_type": "execute_result"
    }
   ],
   "source": [
    "data[0][0][0]"
   ]
  },
  {
   "attachments": {},
   "cell_type": "markdown",
   "id": "ad5aac78",
   "metadata": {},
   "source": []
  },
  {
   "attachments": {},
   "cell_type": "markdown",
   "id": "04224537",
   "metadata": {},
   "source": [
    "# Exercise"
   ]
  },
  {
   "attachments": {},
   "cell_type": "markdown",
   "id": "69522dfb",
   "metadata": {},
   "source": [
    "1. Add documentation for the previous code, each line.\n",
    "1. Calculate the average for the different columns\n",
    "1. Discuss differences between List and tuples.\n",
    "4. Create a Jupyter Notebook and solve this NB's questions.\n",
    "5. Submmit your report in Moodle. Template https://www.overleaf.com/read/xqcnnnrsspcp"
   ]
  },
  {
   "attachments": {},
   "cell_type": "markdown",
   "id": "d8e0b53d",
   "metadata": {},
   "source": [
    "We loop through the dictionary 'data' to access the values and then calculate the average of the 2-D array of each value. "
   ]
  },
  {
   "cell_type": "code",
   "execution_count": 9,
   "id": "28cacbd0",
   "metadata": {},
   "outputs": [
    {
     "name": "stdout",
     "output_type": "stream",
     "text": [
      "[-0.34234306 -0.1808516 ]\n",
      "[-0.06529988  0.36498643]\n",
      "[ 0.16753505 -0.32580327]\n"
     ]
    }
   ],
   "source": [
    "for i in data.keys():\n",
    "    print(np.mean(data[i], axis=1))"
   ]
  },
  {
   "attachments": {},
   "cell_type": "markdown",
   "id": "9ac8e365",
   "metadata": {},
   "source": []
  }
 ],
 "metadata": {
  "kernelspec": {
   "display_name": "Python 3 (ipykernel)",
   "language": "python",
   "name": "python3"
  },
  "language_info": {
   "codemirror_mode": {
    "name": "ipython",
    "version": 3
   },
   "file_extension": ".py",
   "mimetype": "text/x-python",
   "name": "python",
   "nbconvert_exporter": "python",
   "pygments_lexer": "ipython3",
   "version": "3.11.0"
  },
  "vscode": {
   "interpreter": {
    "hash": "31f2aee4e71d21fbe5cf8b01ff0e069b9275f58929596ceb00d14d90e3e16cd6"
   }
  }
 },
 "nbformat": 4,
 "nbformat_minor": 5
}
